{
 "cells": [
  {
   "cell_type": "code",
   "execution_count": 1,
   "metadata": {},
   "outputs": [],
   "source": [
    "# Importing the libraries\n",
    "import numpy as np\n",
    "import matplotlib.pyplot as plt\n",
    "import pandas as pd"
   ]
  },
  {
   "cell_type": "code",
   "execution_count": 39,
   "metadata": {},
   "outputs": [],
   "source": [
    "# Importing the dataset\n",
    "dataset = pd.read_csv(r\"C:\\Users\\abdel.aziz.sereme\\Desktop\\work\\udemy\\deep learning\\Deep_Learning_A_Z\\Deep_Learning_A_Z\\Volume 1 - Supervised Deep Learning\\Part 1 - Artificial Neural Networks (ANN)\\Section 4 - Building an ANN\\Artificial_Neural_Networks\\Churn_Modelling.csv\")"
   ]
  },
  {
   "cell_type": "code",
   "execution_count": 10,
   "metadata": {},
   "outputs": [
    {
     "data": {
      "text/plain": [
       "10000"
      ]
     },
     "execution_count": 10,
     "metadata": {},
     "output_type": "execute_result"
    }
   ],
   "source": [
    "len(dataset)"
   ]
  },
  {
   "cell_type": "code",
   "execution_count": 12,
   "metadata": {},
   "outputs": [
    {
     "data": {
      "text/plain": [
       "(10000, 14)"
      ]
     },
     "execution_count": 12,
     "metadata": {},
     "output_type": "execute_result"
    }
   ],
   "source": [
    "dataset.shape"
   ]
  },
  {
   "cell_type": "code",
   "execution_count": 11,
   "metadata": {},
   "outputs": [
    {
     "data": {
      "text/html": [
       "<div>\n",
       "<style scoped>\n",
       "    .dataframe tbody tr th:only-of-type {\n",
       "        vertical-align: middle;\n",
       "    }\n",
       "\n",
       "    .dataframe tbody tr th {\n",
       "        vertical-align: top;\n",
       "    }\n",
       "\n",
       "    .dataframe thead th {\n",
       "        text-align: right;\n",
       "    }\n",
       "</style>\n",
       "<table border=\"1\" class=\"dataframe\">\n",
       "  <thead>\n",
       "    <tr style=\"text-align: right;\">\n",
       "      <th></th>\n",
       "      <th>RowNumber</th>\n",
       "      <th>CustomerId</th>\n",
       "      <th>Surname</th>\n",
       "      <th>CreditScore</th>\n",
       "      <th>Geography</th>\n",
       "      <th>Gender</th>\n",
       "      <th>Age</th>\n",
       "      <th>Tenure</th>\n",
       "      <th>Balance</th>\n",
       "      <th>NumOfProducts</th>\n",
       "      <th>HasCrCard</th>\n",
       "      <th>IsActiveMember</th>\n",
       "      <th>EstimatedSalary</th>\n",
       "      <th>Exited</th>\n",
       "    </tr>\n",
       "  </thead>\n",
       "  <tbody>\n",
       "    <tr>\n",
       "      <th>0</th>\n",
       "      <td>1</td>\n",
       "      <td>15634602</td>\n",
       "      <td>Hargrave</td>\n",
       "      <td>619</td>\n",
       "      <td>France</td>\n",
       "      <td>Female</td>\n",
       "      <td>42</td>\n",
       "      <td>2</td>\n",
       "      <td>0.00</td>\n",
       "      <td>1</td>\n",
       "      <td>1</td>\n",
       "      <td>1</td>\n",
       "      <td>101348.88</td>\n",
       "      <td>1</td>\n",
       "    </tr>\n",
       "    <tr>\n",
       "      <th>1</th>\n",
       "      <td>2</td>\n",
       "      <td>15647311</td>\n",
       "      <td>Hill</td>\n",
       "      <td>608</td>\n",
       "      <td>Spain</td>\n",
       "      <td>Female</td>\n",
       "      <td>41</td>\n",
       "      <td>1</td>\n",
       "      <td>83807.86</td>\n",
       "      <td>1</td>\n",
       "      <td>0</td>\n",
       "      <td>1</td>\n",
       "      <td>112542.58</td>\n",
       "      <td>0</td>\n",
       "    </tr>\n",
       "    <tr>\n",
       "      <th>2</th>\n",
       "      <td>3</td>\n",
       "      <td>15619304</td>\n",
       "      <td>Onio</td>\n",
       "      <td>502</td>\n",
       "      <td>France</td>\n",
       "      <td>Female</td>\n",
       "      <td>42</td>\n",
       "      <td>8</td>\n",
       "      <td>159660.80</td>\n",
       "      <td>3</td>\n",
       "      <td>1</td>\n",
       "      <td>0</td>\n",
       "      <td>113931.57</td>\n",
       "      <td>1</td>\n",
       "    </tr>\n",
       "    <tr>\n",
       "      <th>3</th>\n",
       "      <td>4</td>\n",
       "      <td>15701354</td>\n",
       "      <td>Boni</td>\n",
       "      <td>699</td>\n",
       "      <td>France</td>\n",
       "      <td>Female</td>\n",
       "      <td>39</td>\n",
       "      <td>1</td>\n",
       "      <td>0.00</td>\n",
       "      <td>2</td>\n",
       "      <td>0</td>\n",
       "      <td>0</td>\n",
       "      <td>93826.63</td>\n",
       "      <td>0</td>\n",
       "    </tr>\n",
       "    <tr>\n",
       "      <th>4</th>\n",
       "      <td>5</td>\n",
       "      <td>15737888</td>\n",
       "      <td>Mitchell</td>\n",
       "      <td>850</td>\n",
       "      <td>Spain</td>\n",
       "      <td>Female</td>\n",
       "      <td>43</td>\n",
       "      <td>2</td>\n",
       "      <td>125510.82</td>\n",
       "      <td>1</td>\n",
       "      <td>1</td>\n",
       "      <td>1</td>\n",
       "      <td>79084.10</td>\n",
       "      <td>0</td>\n",
       "    </tr>\n",
       "  </tbody>\n",
       "</table>\n",
       "</div>"
      ],
      "text/plain": [
       "   RowNumber  CustomerId   Surname  CreditScore Geography  Gender  Age  \\\n",
       "0          1    15634602  Hargrave          619    France  Female   42   \n",
       "1          2    15647311      Hill          608     Spain  Female   41   \n",
       "2          3    15619304      Onio          502    France  Female   42   \n",
       "3          4    15701354      Boni          699    France  Female   39   \n",
       "4          5    15737888  Mitchell          850     Spain  Female   43   \n",
       "\n",
       "   Tenure    Balance  NumOfProducts  HasCrCard  IsActiveMember  \\\n",
       "0       2       0.00              1          1               1   \n",
       "1       1   83807.86              1          0               1   \n",
       "2       8  159660.80              3          1               0   \n",
       "3       1       0.00              2          0               0   \n",
       "4       2  125510.82              1          1               1   \n",
       "\n",
       "   EstimatedSalary  Exited  \n",
       "0        101348.88       1  \n",
       "1        112542.58       0  \n",
       "2        113931.57       1  \n",
       "3         93826.63       0  \n",
       "4         79084.10       0  "
      ]
     },
     "execution_count": 11,
     "metadata": {},
     "output_type": "execute_result"
    }
   ],
   "source": [
    "dataset.head()"
   ]
  },
  {
   "cell_type": "code",
   "execution_count": 40,
   "metadata": {},
   "outputs": [],
   "source": [
    "# Slice and get X and y Values\n",
    "X = dataset.iloc[:, 3:13].values\n",
    "y = dataset.iloc[:, 13].values"
   ]
  },
  {
   "cell_type": "code",
   "execution_count": 41,
   "metadata": {},
   "outputs": [],
   "source": [
    "# Encoding categorical data\n",
    "from sklearn.preprocessing import LabelEncoder, OneHotEncoder\n",
    "labelencoder_X_1 = LabelEncoder()\n",
    "X[:, 1] = labelencoder_X_1.fit_transform(X[:, 1])\n",
    "labelencoder_X_2 = LabelEncoder()\n",
    "X[:, 2] = labelencoder_X_2.fit_transform(X[:, 2])\n",
    "onehotencoder = OneHotEncoder(categorical_features = [1])\n",
    "X = onehotencoder.fit_transform(X).toarray()\n",
    "X = X[:, 1:]"
   ]
  },
  {
   "cell_type": "code",
   "execution_count": 42,
   "metadata": {},
   "outputs": [],
   "source": [
    "#Splitting the data into training and test sets\n",
    "from sklearn.model_selection import train_test_split\n",
    "X_train, X_test , y_train, y_test = train_test_split(X, y, test_size = 0.2, random_state = 0)"
   ]
  },
  {
   "cell_type": "code",
   "execution_count": 36,
   "metadata": {},
   "outputs": [
    {
     "data": {
      "text/plain": [
       "array([ 0.,  1.,  0., ...,  0.,  0.,  1.])"
      ]
     },
     "execution_count": 36,
     "metadata": {},
     "output_type": "execute_result"
    }
   ],
   "source": [
    "X_train"
   ]
  },
  {
   "cell_type": "code",
   "execution_count": 37,
   "metadata": {},
   "outputs": [
    {
     "data": {
      "text/plain": [
       "array([ 1.,  0.,  0., ...,  0.,  1.,  1.])"
      ]
     },
     "execution_count": 37,
     "metadata": {},
     "output_type": "execute_result"
    }
   ],
   "source": [
    "X_test"
   ]
  },
  {
   "cell_type": "code",
   "execution_count": 43,
   "metadata": {},
   "outputs": [],
   "source": [
    "#Feature Scaling\n",
    "from sklearn.preprocessing import StandardScaler\n",
    "sc = StandardScaler()\n",
    "X_train = sc.fit_transform(X_train)\n",
    "X_test = sc.transform(X_test)"
   ]
  },
  {
   "cell_type": "markdown",
   "metadata": {},
   "source": [
    "# Build the ANN"
   ]
  },
  {
   "cell_type": "code",
   "execution_count": 44,
   "metadata": {},
   "outputs": [],
   "source": [
    "import keras\n",
    "from keras.models import Sequential\n",
    "from keras.layers import Dense"
   ]
  },
  {
   "cell_type": "code",
   "execution_count": 48,
   "metadata": {},
   "outputs": [],
   "source": [
    "#Initialize the AN\n",
    "classifier = Sequential()"
   ]
  },
  {
   "cell_type": "code",
   "execution_count": 49,
   "metadata": {},
   "outputs": [],
   "source": [
    "#Add the input layer and first hidden layer\n",
    "classifier.add(Dense(units = 6, kernel_initializer='uniform', \\\n",
    "                     activation  = 'relu', input_dim = 11 ))"
   ]
  },
  {
   "cell_type": "code",
   "execution_count": 50,
   "metadata": {},
   "outputs": [],
   "source": [
    "#adding the second hidden layer\n",
    "classifier.add(Dense(units = 1, kernel_initializer='uniform', \\\n",
    "                    activation = 'relu'))"
   ]
  },
  {
   "cell_type": "code",
   "execution_count": 51,
   "metadata": {},
   "outputs": [],
   "source": [
    "#Add the output layer\n",
    "classifier.add(Dense(units = 1, kernel_initializer='uniform', \\\n",
    "                    activation = 'sigmoid'))"
   ]
  },
  {
   "cell_type": "code",
   "execution_count": 54,
   "metadata": {},
   "outputs": [],
   "source": [
    "# Compiling the ANN\n",
    "classifier.compile(optimizer = 'adam', loss = 'binary_crossentropy', \\\n",
    "                  metrics = ['accuracy'])"
   ]
  },
  {
   "cell_type": "code",
   "execution_count": 55,
   "metadata": {
    "scrolled": true
   },
   "outputs": [
    {
     "name": "stdout",
     "output_type": "stream",
     "text": [
      "Epoch 1/100\n",
      "8000/8000 [==============================] - 1s 140us/step - loss: 0.5074 - acc: 0.7960\n",
      "Epoch 2/100\n",
      "8000/8000 [==============================] - 1s 93us/step - loss: 0.4228 - acc: 0.7960\n",
      "Epoch 3/100\n",
      "8000/8000 [==============================] - 1s 96us/step - loss: 0.4134 - acc: 0.7960\n",
      "Epoch 4/100\n",
      "8000/8000 [==============================] - 1s 94us/step - loss: 0.4050 - acc: 0.8049\n",
      "Epoch 5/100\n",
      "8000/8000 [==============================] - 1s 112us/step - loss: 0.3971 - acc: 0.8297\n",
      "Epoch 6/100\n",
      "8000/8000 [==============================] - 1s 105us/step - loss: 0.3896 - acc: 0.8305\n",
      "Epoch 7/100\n",
      "8000/8000 [==============================] - 1s 112us/step - loss: 0.3839 - acc: 0.8335\n",
      "Epoch 8/100\n",
      "8000/8000 [==============================] - 1s 96us/step - loss: 0.3787 - acc: 0.8420\n",
      "Epoch 9/100\n",
      "8000/8000 [==============================] - 1s 105us/step - loss: 0.3745 - acc: 0.8447 0s - loss: 0.3723 - acc: 0.84\n",
      "Epoch 10/100\n",
      "8000/8000 [==============================] - 1s 105us/step - loss: 0.3708 - acc: 0.8484\n",
      "Epoch 11/100\n",
      "8000/8000 [==============================] - 1s 106us/step - loss: 0.3678 - acc: 0.8484\n",
      "Epoch 12/100\n",
      "8000/8000 [==============================] - 1s 113us/step - loss: 0.3652 - acc: 0.8495\n",
      "Epoch 13/100\n",
      "8000/8000 [==============================] - 1s 135us/step - loss: 0.3635 - acc: 0.8526\n",
      "Epoch 14/100\n",
      "8000/8000 [==============================] - 1s 106us/step - loss: 0.3618 - acc: 0.8519\n",
      "Epoch 15/100\n",
      "8000/8000 [==============================] - 1s 96us/step - loss: 0.3599 - acc: 0.8541\n",
      "Epoch 16/100\n",
      "8000/8000 [==============================] - 1s 98us/step - loss: 0.3593 - acc: 0.8544\n",
      "Epoch 17/100\n",
      "8000/8000 [==============================] - 1s 98us/step - loss: 0.3580 - acc: 0.8524\n",
      "Epoch 18/100\n",
      "8000/8000 [==============================] - 1s 99us/step - loss: 0.3566 - acc: 0.8529\n",
      "Epoch 19/100\n",
      "8000/8000 [==============================] - 1s 98us/step - loss: 0.3563 - acc: 0.8527\n",
      "Epoch 20/100\n",
      "8000/8000 [==============================] - 1s 96us/step - loss: 0.3554 - acc: 0.8531\n",
      "Epoch 21/100\n",
      "8000/8000 [==============================] - 1s 99us/step - loss: 0.3546 - acc: 0.8545: 0s - loss: 0.3556 - acc: 0.8\n",
      "Epoch 22/100\n",
      "8000/8000 [==============================] - 1s 102us/step - loss: 0.3538 - acc: 0.8567\n",
      "Epoch 23/100\n",
      "8000/8000 [==============================] - 1s 106us/step - loss: 0.3535 - acc: 0.8551\n",
      "Epoch 24/100\n",
      "8000/8000 [==============================] - 1s 98us/step - loss: 0.3532 - acc: 0.8551\n",
      "Epoch 25/100\n",
      "8000/8000 [==============================] - 1s 98us/step - loss: 0.3531 - acc: 0.8572\n",
      "Epoch 26/100\n",
      "8000/8000 [==============================] - 1s 106us/step - loss: 0.3527 - acc: 0.8557\n",
      "Epoch 27/100\n",
      "8000/8000 [==============================] - 1s 98us/step - loss: 0.3513 - acc: 0.8567\n",
      "Epoch 28/100\n",
      "8000/8000 [==============================] - 1s 100us/step - loss: 0.3516 - acc: 0.8556\n",
      "Epoch 29/100\n",
      "8000/8000 [==============================] - 1s 98us/step - loss: 0.3509 - acc: 0.8565\n",
      "Epoch 30/100\n",
      "8000/8000 [==============================] - 1s 98us/step - loss: 0.3515 - acc: 0.8567\n",
      "Epoch 31/100\n",
      "8000/8000 [==============================] - 1s 99us/step - loss: 0.3506 - acc: 0.8561\n",
      "Epoch 32/100\n",
      "8000/8000 [==============================] - 1s 131us/step - loss: 0.3503 - acc: 0.8580\n",
      "Epoch 33/100\n",
      "8000/8000 [==============================] - 1s 128us/step - loss: 0.3497 - acc: 0.8565\n",
      "Epoch 34/100\n",
      "8000/8000 [==============================] - 1s 102us/step - loss: 0.3497 - acc: 0.8587\n",
      "Epoch 35/100\n",
      "8000/8000 [==============================] - 1s 99us/step - loss: 0.3488 - acc: 0.8575\n",
      "Epoch 36/100\n",
      "8000/8000 [==============================] - 1s 97us/step - loss: 0.3486 - acc: 0.8586\n",
      "Epoch 37/100\n",
      "8000/8000 [==============================] - 1s 98us/step - loss: 0.3486 - acc: 0.8589\n",
      "Epoch 38/100\n",
      "8000/8000 [==============================] - 1s 98us/step - loss: 0.3490 - acc: 0.8590\n",
      "Epoch 39/100\n",
      "8000/8000 [==============================] - 1s 100us/step - loss: 0.3487 - acc: 0.8605\n",
      "Epoch 40/100\n",
      "8000/8000 [==============================] - 1s 99us/step - loss: 0.3478 - acc: 0.8612\n",
      "Epoch 41/100\n",
      "8000/8000 [==============================] - 1s 98us/step - loss: 0.3485 - acc: 0.8580\n",
      "Epoch 42/100\n",
      "8000/8000 [==============================] - 1s 100us/step - loss: 0.3482 - acc: 0.8585\n",
      "Epoch 43/100\n",
      "8000/8000 [==============================] - 1s 101us/step - loss: 0.3478 - acc: 0.8602\n",
      "Epoch 44/100\n",
      "8000/8000 [==============================] - 1s 101us/step - loss: 0.3478 - acc: 0.8589\n",
      "Epoch 45/100\n",
      "8000/8000 [==============================] - 1s 98us/step - loss: 0.3466 - acc: 0.8589\n",
      "Epoch 46/100\n",
      "8000/8000 [==============================] - 1s 98us/step - loss: 0.3470 - acc: 0.8620\n",
      "Epoch 47/100\n",
      "8000/8000 [==============================] - 1s 98us/step - loss: 0.3468 - acc: 0.8577\n",
      "Epoch 48/100\n",
      "8000/8000 [==============================] - 1s 100us/step - loss: 0.3463 - acc: 0.8596\n",
      "Epoch 49/100\n",
      "8000/8000 [==============================] - 1s 98us/step - loss: 0.3469 - acc: 0.8611\n",
      "Epoch 50/100\n",
      "8000/8000 [==============================] - 1s 100us/step - loss: 0.3471 - acc: 0.8590\n",
      "Epoch 51/100\n",
      "8000/8000 [==============================] - 1s 118us/step - loss: 0.3464 - acc: 0.8606\n",
      "Epoch 52/100\n",
      "8000/8000 [==============================] - 1s 150us/step - loss: 0.3467 - acc: 0.8610\n",
      "Epoch 53/100\n",
      "8000/8000 [==============================] - 1s 123us/step - loss: 0.3461 - acc: 0.8592\n",
      "Epoch 54/100\n",
      "8000/8000 [==============================] - 1s 109us/step - loss: 0.3461 - acc: 0.8585\n",
      "Epoch 55/100\n",
      "8000/8000 [==============================] - 1s 107us/step - loss: 0.3462 - acc: 0.8596\n",
      "Epoch 56/100\n",
      "8000/8000 [==============================] - 1s 106us/step - loss: 0.3455 - acc: 0.8606\n",
      "Epoch 57/100\n",
      "8000/8000 [==============================] - 1s 106us/step - loss: 0.3457 - acc: 0.8610\n",
      "Epoch 58/100\n",
      "8000/8000 [==============================] - 1s 109us/step - loss: 0.3458 - acc: 0.8599\n",
      "Epoch 59/100\n",
      "8000/8000 [==============================] - 1s 105us/step - loss: 0.3456 - acc: 0.8602\n",
      "Epoch 60/100\n",
      "8000/8000 [==============================] - 1s 108us/step - loss: 0.3453 - acc: 0.8587\n",
      "Epoch 61/100\n",
      "8000/8000 [==============================] - 1s 107us/step - loss: 0.3450 - acc: 0.8607\n",
      "Epoch 62/100\n",
      "8000/8000 [==============================] - 1s 107us/step - loss: 0.3456 - acc: 0.8620\n",
      "Epoch 63/100\n",
      "8000/8000 [==============================] - 1s 151us/step - loss: 0.3446 - acc: 0.8604\n",
      "Epoch 64/100\n",
      "8000/8000 [==============================] - 1s 107us/step - loss: 0.3461 - acc: 0.8587\n",
      "Epoch 65/100\n",
      "8000/8000 [==============================] - 1s 113us/step - loss: 0.3448 - acc: 0.8605\n",
      "Epoch 66/100\n",
      "8000/8000 [==============================] - 1s 109us/step - loss: 0.3453 - acc: 0.8594\n",
      "Epoch 67/100\n",
      "8000/8000 [==============================] - 1s 107us/step - loss: 0.3448 - acc: 0.8597\n",
      "Epoch 68/100\n",
      "8000/8000 [==============================] - 1s 107us/step - loss: 0.3445 - acc: 0.8621\n",
      "Epoch 69/100\n",
      "8000/8000 [==============================] - 1s 146us/step - loss: 0.3451 - acc: 0.8625\n",
      "Epoch 70/100\n",
      "8000/8000 [==============================] - 1s 145us/step - loss: 0.3445 - acc: 0.8586\n",
      "Epoch 71/100\n",
      "8000/8000 [==============================] - 1s 118us/step - loss: 0.3449 - acc: 0.8621\n",
      "Epoch 72/100\n",
      "8000/8000 [==============================] - 1s 119us/step - loss: 0.3443 - acc: 0.8597\n",
      "Epoch 73/100\n",
      "8000/8000 [==============================] - 1s 123us/step - loss: 0.3443 - acc: 0.8595\n",
      "Epoch 74/100\n",
      "8000/8000 [==============================] - 1s 111us/step - loss: 0.3446 - acc: 0.8610\n",
      "Epoch 75/100\n",
      "8000/8000 [==============================] - 1s 116us/step - loss: 0.3443 - acc: 0.8601\n",
      "Epoch 76/100\n",
      "8000/8000 [==============================] - 1s 107us/step - loss: 0.3443 - acc: 0.8610\n",
      "Epoch 77/100\n",
      "8000/8000 [==============================] - 1s 113us/step - loss: 0.3442 - acc: 0.8606 0s - loss: 0.3472 - acc: - ETA: 0s - loss: 0.3416 - acc:\n",
      "Epoch 78/100\n",
      "8000/8000 [==============================] - 1s 108us/step - loss: 0.3449 - acc: 0.8611\n",
      "Epoch 79/100\n",
      "8000/8000 [==============================] - 1s 112us/step - loss: 0.3438 - acc: 0.8617\n",
      "Epoch 80/100\n",
      "8000/8000 [==============================] - 1s 108us/step - loss: 0.3438 - acc: 0.8606\n",
      "Epoch 81/100\n"
     ]
    },
    {
     "name": "stdout",
     "output_type": "stream",
     "text": [
      "8000/8000 [==============================] - 1s 98us/step - loss: 0.3441 - acc: 0.8595\n",
      "Epoch 82/100\n",
      "8000/8000 [==============================] - 1s 96us/step - loss: 0.3439 - acc: 0.8587\n",
      "Epoch 83/100\n",
      "8000/8000 [==============================] - 1s 97us/step - loss: 0.3440 - acc: 0.8631\n",
      "Epoch 84/100\n",
      "8000/8000 [==============================] - 1s 96us/step - loss: 0.3439 - acc: 0.8581\n",
      "Epoch 85/100\n",
      "8000/8000 [==============================] - 1s 97us/step - loss: 0.3441 - acc: 0.8614\n",
      "Epoch 86/100\n",
      "8000/8000 [==============================] - 1s 98us/step - loss: 0.3428 - acc: 0.8600\n",
      "Epoch 87/100\n",
      "8000/8000 [==============================] - 1s 138us/step - loss: 0.3437 - acc: 0.8599\n",
      "Epoch 88/100\n",
      "8000/8000 [==============================] - 1s 123us/step - loss: 0.3430 - acc: 0.8605\n",
      "Epoch 89/100\n",
      "8000/8000 [==============================] - 1s 100us/step - loss: 0.3434 - acc: 0.8602\n",
      "Epoch 90/100\n",
      "8000/8000 [==============================] - 1s 98us/step - loss: 0.3430 - acc: 0.8620\n",
      "Epoch 91/100\n",
      "8000/8000 [==============================] - 1s 98us/step - loss: 0.3435 - acc: 0.8601\n",
      "Epoch 92/100\n",
      "8000/8000 [==============================] - 1s 98us/step - loss: 0.3441 - acc: 0.8612\n",
      "Epoch 93/100\n",
      "8000/8000 [==============================] - 1s 95us/step - loss: 0.3434 - acc: 0.8602\n",
      "Epoch 94/100\n",
      "8000/8000 [==============================] - 1s 105us/step - loss: 0.3434 - acc: 0.8620\n",
      "Epoch 95/100\n",
      "8000/8000 [==============================] - 1s 113us/step - loss: 0.3431 - acc: 0.8604\n",
      "Epoch 96/100\n",
      "8000/8000 [==============================] - 1s 105us/step - loss: 0.3435 - acc: 0.8595\n",
      "Epoch 97/100\n",
      "8000/8000 [==============================] - 1s 104us/step - loss: 0.3426 - acc: 0.8616\n",
      "Epoch 98/100\n",
      "8000/8000 [==============================] - 1s 106us/step - loss: 0.3435 - acc: 0.8596\n",
      "Epoch 99/100\n",
      "8000/8000 [==============================] - 1s 106us/step - loss: 0.3428 - acc: 0.8602\n",
      "Epoch 100/100\n",
      "8000/8000 [==============================] - 1s 103us/step - loss: 0.3431 - acc: 0.8626\n"
     ]
    },
    {
     "data": {
      "text/plain": [
       "<keras.callbacks.History at 0x257f7ac63c8>"
      ]
     },
     "execution_count": 55,
     "metadata": {},
     "output_type": "execute_result"
    }
   ],
   "source": [
    "#Fitting the ANN to training set\n",
    "classifier.fit(X_train, y_train, batch_size = 10, epochs = 100)"
   ]
  },
  {
   "cell_type": "markdown",
   "metadata": {},
   "source": [
    "# Make predictions"
   ]
  },
  {
   "cell_type": "code",
   "execution_count": 56,
   "metadata": {},
   "outputs": [],
   "source": [
    "#Predicting the test set results\n",
    "y_pred = classifier.predict(X_test)\n",
    "y_pred = (y_pred > 0.5)"
   ]
  },
  {
   "cell_type": "code",
   "execution_count": 59,
   "metadata": {},
   "outputs": [
    {
     "name": "stdout",
     "output_type": "stream",
     "text": [
      "[[1500   95]\n",
      " [ 194  211]]\n"
     ]
    }
   ],
   "source": [
    "# Make a confusion Matrix\n",
    "from sklearn.metrics import confusion_matrix\n",
    "cm = confusion_matrix(y_test, y_pred)\n",
    "print(cm)"
   ]
  },
  {
   "cell_type": "code",
   "execution_count": 60,
   "metadata": {},
   "outputs": [
    {
     "data": {
      "text/plain": [
       "array([[1500,   95],\n",
       "       [ 194,  211]], dtype=int64)"
      ]
     },
     "execution_count": 60,
     "metadata": {},
     "output_type": "execute_result"
    }
   ],
   "source": [
    "cm"
   ]
  },
  {
   "cell_type": "code",
   "execution_count": null,
   "metadata": {},
   "outputs": [],
   "source": []
  }
 ],
 "metadata": {
  "kernelspec": {
   "display_name": "Python 3",
   "language": "python",
   "name": "python3"
  },
  "language_info": {
   "codemirror_mode": {
    "name": "ipython",
    "version": 3
   },
   "file_extension": ".py",
   "mimetype": "text/x-python",
   "name": "python",
   "nbconvert_exporter": "python",
   "pygments_lexer": "ipython3",
   "version": "3.5.4"
  }
 },
 "nbformat": 4,
 "nbformat_minor": 2
}
